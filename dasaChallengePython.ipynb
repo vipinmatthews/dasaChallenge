{
 "cells": [
  {
   "cell_type": "markdown",
   "metadata": {},
   "source": [
    "## Barclays Data Science Exercise\n",
    "\n",
    "Fraud detection is a topic applicable to many sectors, including financial services and insurance.\n",
    "In this exercise, you will be asked to build a predictive model for predicting fraud and a simple\n",
    "application to simulate the model running on unseen data.\n",
    "The target variable ‘isFraud’ should be used and the ‘isFlaggedFraud’ variable must be\n",
    "ignored for the purpose of this analysis.\n",
    "\n",
    "step - maps a unit of time in the real world. In this case 1 step is 1 hour of time. Total steps 744 (30 days simulation).\n",
    "\n",
    "type - CASH-IN, CASH-OUT, DEBIT, PAYMENT and TRANSFER.\n",
    "\n",
    "amount - amount of the transaction in local currency.\n",
    "\n",
    "nameOrig - customer who started the transaction\n",
    "\n",
    "oldbalanceOrg - initial balance before the transaction\n",
    "\n",
    "newbalanceOrig - new balance after the transaction\n",
    "\n",
    "nameDest - customer who is the recipient of the transaction\n",
    "\n",
    "oldbalanceDest - initial balance recipient before the transaction. Note that there is not information for customers that start with M (Merchants).\n",
    "\n",
    "newbalanceDest - new balance recipient after the transaction. Note that there is not information for customers that start with M (Merchants).\n",
    "\n",
    "isFraud - This is the transactions made by the fraudulent agents inside the simulation. In this specific dataset the fraudulent behavior of the agents aims to profit by taking control or customers accounts and try to empty the funds by transferring to another account and then cashing out of the system.\n",
    "\n",
    "isFlaggedFraud - The business model aims to control massive transfers from one account to another and flags illegal attempts. An illegal attempt in this dataset is an attempt to transfer more than 200.000 in a single transaction."
   ]
  },
  {
   "cell_type": "code",
   "execution_count": 1,
   "metadata": {},
   "outputs": [],
   "source": [
    "import pandas as pd\n",
    "import numpy as np\n",
    "import datetime, time\n",
    "import itertools, pickle\n",
    "import requests, json\n",
    "\n",
    "import matplotlib.pyplot as plt\n",
    "from matplotlib import style\n",
    "style.use('ggplot')\n",
    "import seaborn as sns\n",
    "%matplotlib inline\n",
    "\n",
    "from sklearn.model_selection import train_test_split, learning_curve\n",
    "from sklearn.metrics import average_precision_score, precision_recall_curve, confusion_matrix, roc_curve, auc\n",
    "from xgboost.sklearn import XGBClassifier\n",
    "from xgboost import plot_importance, to_graphviz\n",
    "\n",
    "import warnings\n",
    "warnings.filterwarnings(\"ignore\", category=DeprecationWarning)"
   ]
  },
  {
   "cell_type": "markdown",
   "metadata": {},
   "source": [
    "## Exploring the data"
   ]
  },
  {
   "cell_type": "code",
   "execution_count": 2,
   "metadata": {},
   "outputs": [],
   "source": [
    "raw_data = pd.read_csv('/media/d/Python/dasaChallenge/PS_20174392719_1491204439457_log.csv')"
   ]
  },
  {
   "cell_type": "code",
   "execution_count": 3,
   "metadata": {},
   "outputs": [
    {
     "data": {
      "text/html": [
       "<div>\n",
       "<style scoped>\n",
       "    .dataframe tbody tr th:only-of-type {\n",
       "        vertical-align: middle;\n",
       "    }\n",
       "\n",
       "    .dataframe tbody tr th {\n",
       "        vertical-align: top;\n",
       "    }\n",
       "\n",
       "    .dataframe thead th {\n",
       "        text-align: right;\n",
       "    }\n",
       "</style>\n",
       "<table border=\"1\" class=\"dataframe\">\n",
       "  <thead>\n",
       "    <tr style=\"text-align: right;\">\n",
       "      <th></th>\n",
       "      <th>step</th>\n",
       "      <th>type</th>\n",
       "      <th>amount</th>\n",
       "      <th>nameOrig</th>\n",
       "      <th>oldbalanceOrg</th>\n",
       "      <th>newbalanceOrig</th>\n",
       "      <th>nameDest</th>\n",
       "      <th>oldbalanceDest</th>\n",
       "      <th>newbalanceDest</th>\n",
       "      <th>isFraud</th>\n",
       "      <th>isFlaggedFraud</th>\n",
       "    </tr>\n",
       "  </thead>\n",
       "  <tbody>\n",
       "    <tr>\n",
       "      <th>0</th>\n",
       "      <td>1</td>\n",
       "      <td>PAYMENT</td>\n",
       "      <td>9839.64</td>\n",
       "      <td>C1231006815</td>\n",
       "      <td>170136.00</td>\n",
       "      <td>160296.36</td>\n",
       "      <td>M1979787155</td>\n",
       "      <td>0.0</td>\n",
       "      <td>0.00</td>\n",
       "      <td>0</td>\n",
       "      <td>0</td>\n",
       "    </tr>\n",
       "    <tr>\n",
       "      <th>1</th>\n",
       "      <td>1</td>\n",
       "      <td>PAYMENT</td>\n",
       "      <td>1864.28</td>\n",
       "      <td>C1666544295</td>\n",
       "      <td>21249.00</td>\n",
       "      <td>19384.72</td>\n",
       "      <td>M2044282225</td>\n",
       "      <td>0.0</td>\n",
       "      <td>0.00</td>\n",
       "      <td>0</td>\n",
       "      <td>0</td>\n",
       "    </tr>\n",
       "    <tr>\n",
       "      <th>2</th>\n",
       "      <td>1</td>\n",
       "      <td>TRANSFER</td>\n",
       "      <td>181.00</td>\n",
       "      <td>C1305486145</td>\n",
       "      <td>181.00</td>\n",
       "      <td>0.00</td>\n",
       "      <td>C553264065</td>\n",
       "      <td>0.0</td>\n",
       "      <td>0.00</td>\n",
       "      <td>1</td>\n",
       "      <td>0</td>\n",
       "    </tr>\n",
       "    <tr>\n",
       "      <th>3</th>\n",
       "      <td>1</td>\n",
       "      <td>CASH_OUT</td>\n",
       "      <td>181.00</td>\n",
       "      <td>C840083671</td>\n",
       "      <td>181.00</td>\n",
       "      <td>0.00</td>\n",
       "      <td>C38997010</td>\n",
       "      <td>21182.0</td>\n",
       "      <td>0.00</td>\n",
       "      <td>1</td>\n",
       "      <td>0</td>\n",
       "    </tr>\n",
       "    <tr>\n",
       "      <th>4</th>\n",
       "      <td>1</td>\n",
       "      <td>PAYMENT</td>\n",
       "      <td>11668.14</td>\n",
       "      <td>C2048537720</td>\n",
       "      <td>41554.00</td>\n",
       "      <td>29885.86</td>\n",
       "      <td>M1230701703</td>\n",
       "      <td>0.0</td>\n",
       "      <td>0.00</td>\n",
       "      <td>0</td>\n",
       "      <td>0</td>\n",
       "    </tr>\n",
       "    <tr>\n",
       "      <th>5</th>\n",
       "      <td>1</td>\n",
       "      <td>PAYMENT</td>\n",
       "      <td>7817.71</td>\n",
       "      <td>C90045638</td>\n",
       "      <td>53860.00</td>\n",
       "      <td>46042.29</td>\n",
       "      <td>M573487274</td>\n",
       "      <td>0.0</td>\n",
       "      <td>0.00</td>\n",
       "      <td>0</td>\n",
       "      <td>0</td>\n",
       "    </tr>\n",
       "    <tr>\n",
       "      <th>6</th>\n",
       "      <td>1</td>\n",
       "      <td>PAYMENT</td>\n",
       "      <td>7107.77</td>\n",
       "      <td>C154988899</td>\n",
       "      <td>183195.00</td>\n",
       "      <td>176087.23</td>\n",
       "      <td>M408069119</td>\n",
       "      <td>0.0</td>\n",
       "      <td>0.00</td>\n",
       "      <td>0</td>\n",
       "      <td>0</td>\n",
       "    </tr>\n",
       "    <tr>\n",
       "      <th>7</th>\n",
       "      <td>1</td>\n",
       "      <td>PAYMENT</td>\n",
       "      <td>7861.64</td>\n",
       "      <td>C1912850431</td>\n",
       "      <td>176087.23</td>\n",
       "      <td>168225.59</td>\n",
       "      <td>M633326333</td>\n",
       "      <td>0.0</td>\n",
       "      <td>0.00</td>\n",
       "      <td>0</td>\n",
       "      <td>0</td>\n",
       "    </tr>\n",
       "    <tr>\n",
       "      <th>8</th>\n",
       "      <td>1</td>\n",
       "      <td>PAYMENT</td>\n",
       "      <td>4024.36</td>\n",
       "      <td>C1265012928</td>\n",
       "      <td>2671.00</td>\n",
       "      <td>0.00</td>\n",
       "      <td>M1176932104</td>\n",
       "      <td>0.0</td>\n",
       "      <td>0.00</td>\n",
       "      <td>0</td>\n",
       "      <td>0</td>\n",
       "    </tr>\n",
       "    <tr>\n",
       "      <th>9</th>\n",
       "      <td>1</td>\n",
       "      <td>DEBIT</td>\n",
       "      <td>5337.77</td>\n",
       "      <td>C712410124</td>\n",
       "      <td>41720.00</td>\n",
       "      <td>36382.23</td>\n",
       "      <td>C195600860</td>\n",
       "      <td>41898.0</td>\n",
       "      <td>40348.79</td>\n",
       "      <td>0</td>\n",
       "      <td>0</td>\n",
       "    </tr>\n",
       "  </tbody>\n",
       "</table>\n",
       "</div>"
      ],
      "text/plain": [
       "   step      type    amount     nameOrig  oldbalanceOrg  newbalanceOrig  \\\n",
       "0     1   PAYMENT   9839.64  C1231006815      170136.00       160296.36   \n",
       "1     1   PAYMENT   1864.28  C1666544295       21249.00        19384.72   \n",
       "2     1  TRANSFER    181.00  C1305486145         181.00            0.00   \n",
       "3     1  CASH_OUT    181.00   C840083671         181.00            0.00   \n",
       "4     1   PAYMENT  11668.14  C2048537720       41554.00        29885.86   \n",
       "5     1   PAYMENT   7817.71    C90045638       53860.00        46042.29   \n",
       "6     1   PAYMENT   7107.77   C154988899      183195.00       176087.23   \n",
       "7     1   PAYMENT   7861.64  C1912850431      176087.23       168225.59   \n",
       "8     1   PAYMENT   4024.36  C1265012928        2671.00            0.00   \n",
       "9     1     DEBIT   5337.77   C712410124       41720.00        36382.23   \n",
       "\n",
       "      nameDest  oldbalanceDest  newbalanceDest  isFraud  isFlaggedFraud  \n",
       "0  M1979787155             0.0            0.00        0               0  \n",
       "1  M2044282225             0.0            0.00        0               0  \n",
       "2   C553264065             0.0            0.00        1               0  \n",
       "3    C38997010         21182.0            0.00        1               0  \n",
       "4  M1230701703             0.0            0.00        0               0  \n",
       "5   M573487274             0.0            0.00        0               0  \n",
       "6   M408069119             0.0            0.00        0               0  \n",
       "7   M633326333             0.0            0.00        0               0  \n",
       "8  M1176932104             0.0            0.00        0               0  \n",
       "9   C195600860         41898.0        40348.79        0               0  "
      ]
     },
     "execution_count": 3,
     "metadata": {},
     "output_type": "execute_result"
    }
   ],
   "source": [
    "raw_data.head(10)"
   ]
  },
  {
   "cell_type": "markdown",
   "metadata": {},
   "source": [
    "### Casting the categorical variables"
   ]
  },
  {
   "cell_type": "code",
   "execution_count": 4,
   "metadata": {},
   "outputs": [],
   "source": [
    "raw_data['isFraud'] = raw_data['isFraud'].astype('category')\n",
    "raw_data['isFlaggedFraud'] = raw_data['isFlaggedFraud'].astype('category')"
   ]
  },
  {
   "cell_type": "code",
   "execution_count": 5,
   "metadata": {},
   "outputs": [
    {
     "data": {
      "text/html": [
       "<div>\n",
       "<style scoped>\n",
       "    .dataframe tbody tr th:only-of-type {\n",
       "        vertical-align: middle;\n",
       "    }\n",
       "\n",
       "    .dataframe tbody tr th {\n",
       "        vertical-align: top;\n",
       "    }\n",
       "\n",
       "    .dataframe thead th {\n",
       "        text-align: right;\n",
       "    }\n",
       "</style>\n",
       "<table border=\"1\" class=\"dataframe\">\n",
       "  <thead>\n",
       "    <tr style=\"text-align: right;\">\n",
       "      <th></th>\n",
       "      <th>step</th>\n",
       "      <th>amount</th>\n",
       "      <th>oldbalanceOrg</th>\n",
       "      <th>newbalanceOrig</th>\n",
       "      <th>oldbalanceDest</th>\n",
       "      <th>newbalanceDest</th>\n",
       "    </tr>\n",
       "  </thead>\n",
       "  <tbody>\n",
       "    <tr>\n",
       "      <th>count</th>\n",
       "      <td>6.362620e+06</td>\n",
       "      <td>6.362620e+06</td>\n",
       "      <td>6.362620e+06</td>\n",
       "      <td>6.362620e+06</td>\n",
       "      <td>6.362620e+06</td>\n",
       "      <td>6.362620e+06</td>\n",
       "    </tr>\n",
       "    <tr>\n",
       "      <th>mean</th>\n",
       "      <td>2.433972e+02</td>\n",
       "      <td>1.798619e+05</td>\n",
       "      <td>8.338831e+05</td>\n",
       "      <td>8.551137e+05</td>\n",
       "      <td>1.100702e+06</td>\n",
       "      <td>1.224996e+06</td>\n",
       "    </tr>\n",
       "    <tr>\n",
       "      <th>std</th>\n",
       "      <td>1.423320e+02</td>\n",
       "      <td>6.038582e+05</td>\n",
       "      <td>2.888243e+06</td>\n",
       "      <td>2.924049e+06</td>\n",
       "      <td>3.399180e+06</td>\n",
       "      <td>3.674129e+06</td>\n",
       "    </tr>\n",
       "    <tr>\n",
       "      <th>min</th>\n",
       "      <td>1.000000e+00</td>\n",
       "      <td>0.000000e+00</td>\n",
       "      <td>0.000000e+00</td>\n",
       "      <td>0.000000e+00</td>\n",
       "      <td>0.000000e+00</td>\n",
       "      <td>0.000000e+00</td>\n",
       "    </tr>\n",
       "    <tr>\n",
       "      <th>25%</th>\n",
       "      <td>1.560000e+02</td>\n",
       "      <td>1.338957e+04</td>\n",
       "      <td>0.000000e+00</td>\n",
       "      <td>0.000000e+00</td>\n",
       "      <td>0.000000e+00</td>\n",
       "      <td>0.000000e+00</td>\n",
       "    </tr>\n",
       "    <tr>\n",
       "      <th>50%</th>\n",
       "      <td>2.390000e+02</td>\n",
       "      <td>7.487194e+04</td>\n",
       "      <td>1.420800e+04</td>\n",
       "      <td>0.000000e+00</td>\n",
       "      <td>1.327057e+05</td>\n",
       "      <td>2.146614e+05</td>\n",
       "    </tr>\n",
       "    <tr>\n",
       "      <th>75%</th>\n",
       "      <td>3.350000e+02</td>\n",
       "      <td>2.087215e+05</td>\n",
       "      <td>1.073152e+05</td>\n",
       "      <td>1.442584e+05</td>\n",
       "      <td>9.430367e+05</td>\n",
       "      <td>1.111909e+06</td>\n",
       "    </tr>\n",
       "    <tr>\n",
       "      <th>max</th>\n",
       "      <td>7.430000e+02</td>\n",
       "      <td>9.244552e+07</td>\n",
       "      <td>5.958504e+07</td>\n",
       "      <td>4.958504e+07</td>\n",
       "      <td>3.560159e+08</td>\n",
       "      <td>3.561793e+08</td>\n",
       "    </tr>\n",
       "  </tbody>\n",
       "</table>\n",
       "</div>"
      ],
      "text/plain": [
       "               step        amount  oldbalanceOrg  newbalanceOrig  \\\n",
       "count  6.362620e+06  6.362620e+06   6.362620e+06    6.362620e+06   \n",
       "mean   2.433972e+02  1.798619e+05   8.338831e+05    8.551137e+05   \n",
       "std    1.423320e+02  6.038582e+05   2.888243e+06    2.924049e+06   \n",
       "min    1.000000e+00  0.000000e+00   0.000000e+00    0.000000e+00   \n",
       "25%    1.560000e+02  1.338957e+04   0.000000e+00    0.000000e+00   \n",
       "50%    2.390000e+02  7.487194e+04   1.420800e+04    0.000000e+00   \n",
       "75%    3.350000e+02  2.087215e+05   1.073152e+05    1.442584e+05   \n",
       "max    7.430000e+02  9.244552e+07   5.958504e+07    4.958504e+07   \n",
       "\n",
       "       oldbalanceDest  newbalanceDest  \n",
       "count    6.362620e+06    6.362620e+06  \n",
       "mean     1.100702e+06    1.224996e+06  \n",
       "std      3.399180e+06    3.674129e+06  \n",
       "min      0.000000e+00    0.000000e+00  \n",
       "25%      0.000000e+00    0.000000e+00  \n",
       "50%      1.327057e+05    2.146614e+05  \n",
       "75%      9.430367e+05    1.111909e+06  \n",
       "max      3.560159e+08    3.561793e+08  "
      ]
     },
     "execution_count": 5,
     "metadata": {},
     "output_type": "execute_result"
    }
   ],
   "source": [
    "raw_data.describe()"
   ]
  },
  {
   "cell_type": "markdown",
   "metadata": {},
   "source": [
    "### Checking the imbalance of the problem"
   ]
  },
  {
   "cell_type": "code",
   "execution_count": 6,
   "metadata": {},
   "outputs": [
    {
     "name": "stdout",
     "output_type": "stream",
     "text": [
      "0    6354407\n",
      "1       8213\n",
      "Name: isFraud, dtype: int64\n",
      "Class Imbalance = 0.12908204481801522\n"
     ]
    }
   ],
   "source": [
    "imbalance = raw_data.isFraud.value_counts()\n",
    "print(imbalance)\n",
    "print('Class Imbalance = {}'.format(imbalance[1]/(imbalance[0]+imbalance[1])*100))"
   ]
  },
  {
   "cell_type": "markdown",
   "metadata": {},
   "source": [
    "The Fraud rate is ~0.13%. ie, the dataset is extremely imbalanced. So rebalancing the dataset might be required. But the results obtained on a rebalanced dataset could be far off from the real-world performance of the model.\n",
    "\n",
    "SInce this is an extremely imbalanced classification problem, Accuracy is not the metric that we should be optimizing for. A model which predicts all the transactions as Non-Fraud would achieve 99.87% accuracy."
   ]
  },
  {
   "cell_type": "markdown",
   "metadata": {},
   "source": [
    "### Checking for any missing values"
   ]
  },
  {
   "cell_type": "code",
   "execution_count": 7,
   "metadata": {},
   "outputs": [
    {
     "data": {
      "text/plain": [
       "step              False\n",
       "type              False\n",
       "amount            False\n",
       "nameOrig          False\n",
       "oldbalanceOrg     False\n",
       "newbalanceOrig    False\n",
       "nameDest          False\n",
       "oldbalanceDest    False\n",
       "newbalanceDest    False\n",
       "isFraud           False\n",
       "isFlaggedFraud    False\n",
       "dtype: bool"
      ]
     },
     "execution_count": 7,
     "metadata": {},
     "output_type": "execute_result"
    }
   ],
   "source": [
    "raw_data.isnull().any()"
   ]
  },
  {
   "cell_type": "markdown",
   "metadata": {},
   "source": [
    "### Checking the volumes of different transaction types"
   ]
  },
  {
   "cell_type": "code",
   "execution_count": 8,
   "metadata": {},
   "outputs": [
    {
     "name": "stdout",
     "output_type": "stream",
     "text": [
      "CASH_OUT    2237500\n",
      "PAYMENT     2151495\n",
      "CASH_IN     1399284\n",
      "TRANSFER     532909\n",
      "DEBIT         41432\n",
      "Name: type, dtype: int64\n"
     ]
    },
    {
     "data": {
      "image/png": "[encoded data removed]",
      "text/plain": [
       "<matplotlib.figure.Figure at 0x7fb702cf3908>"
      ]
     },
     "metadata": {},
     "output_type": "display_data"
    }
   ],
   "source": [
    "print(raw_data.type.value_counts())\n",
    "\n",
    "f, ax = plt.subplots(1, 1, figsize=(8, 8))\n",
    "raw_data.type.value_counts().plot(kind='bar', title=\"Transaction type\", ax=ax, figsize=(8,8))\n",
    "plt.show()"
   ]
  },
  {
   "cell_type": "markdown",
   "metadata": {},
   "source": [
    "#### Checking the number of Frauds in each Transaction type"
   ]
  },
  {
   "cell_type": "code",
   "execution_count": 9,
   "metadata": {},
   "outputs": [
    {
     "data": {
      "text/html": [
       "<div>\n",
       "<style scoped>\n",
       "    .dataframe tbody tr th:only-of-type {\n",
       "        vertical-align: middle;\n",
       "    }\n",
       "\n",
       "    .dataframe tbody tr th {\n",
       "        vertical-align: top;\n",
       "    }\n",
       "\n",
       "    .dataframe thead th {\n",
       "        text-align: right;\n",
       "    }\n",
       "</style>\n",
       "<table border=\"1\" class=\"dataframe\">\n",
       "  <thead>\n",
       "    <tr style=\"text-align: right;\">\n",
       "      <th>isFraud</th>\n",
       "      <th>0</th>\n",
       "      <th>1</th>\n",
       "    </tr>\n",
       "    <tr>\n",
       "      <th>type</th>\n",
       "      <th></th>\n",
       "      <th></th>\n",
       "    </tr>\n",
       "  </thead>\n",
       "  <tbody>\n",
       "    <tr>\n",
       "      <th>CASH_IN</th>\n",
       "      <td>1399284</td>\n",
       "      <td>0</td>\n",
       "    </tr>\n",
       "    <tr>\n",
       "      <th>CASH_OUT</th>\n",
       "      <td>2233384</td>\n",
       "      <td>4116</td>\n",
       "    </tr>\n",
       "    <tr>\n",
       "      <th>DEBIT</th>\n",
       "      <td>41432</td>\n",
       "      <td>0</td>\n",
       "    </tr>\n",
       "    <tr>\n",
       "      <th>PAYMENT</th>\n",
       "      <td>2151495</td>\n",
       "      <td>0</td>\n",
       "    </tr>\n",
       "    <tr>\n",
       "      <th>TRANSFER</th>\n",
       "      <td>528812</td>\n",
       "      <td>4097</td>\n",
       "    </tr>\n",
       "  </tbody>\n",
       "</table>\n",
       "</div>"
      ],
      "text/plain": [
       "isFraud         0     1\n",
       "type                   \n",
       "CASH_IN   1399284     0\n",
       "CASH_OUT  2233384  4116\n",
       "DEBIT       41432     0\n",
       "PAYMENT   2151495     0\n",
       "TRANSFER   528812  4097"
      ]
     },
     "execution_count": 9,
     "metadata": {},
     "output_type": "execute_result"
    }
   ],
   "source": [
    "pd.crosstab(raw_data['type'], raw_data['isFraud'])"
   ]
  },
  {
   "cell_type": "markdown",
   "metadata": {},
   "source": [
    "Here we see that the fraud occurs only in CASH_OUT and TRANSFER transactions. This is inline with the description given for 'isFraud' variable. This means that we can make a model only using TRANSFER and CASH_OUT types while directly returning result as 'notFraud' for other types using an if condition check. This will make the model faster in production as the model needs to be executed only for 2 types."
   ]
  },
  {
   "cell_type": "markdown",
   "metadata": {},
   "source": [
    "## Feature Engineering"
   ]
  },
  {
   "cell_type": "markdown",
   "metadata": {},
   "source": [
    "The description of 'isFraud' states that in this specific dataset the fraudulent behavior of the agents aims to profit by taking control of customers accounts and try to empty the funds by transferring to another account and then cashing out of the system. We need to investigate whether this is the case, then those accounts may be marked as suspicious accounts and can be made into feature for the model. During productionization, a suspicious account database may be maintained which returns 'True' if an account is present in it.\n",
    "\n",
    "We are neglecting the 'isFlaggedFraud' variable as per the instructions given."
   ]
  },
  {
   "cell_type": "code",
   "execution_count": 10,
   "metadata": {},
   "outputs": [
    {
     "name": "stdout",
     "output_type": "stream",
     "text": [
      "Within fraudulent transactions, are there destinations for TRANSFERS  that are also originators for CASH_OUTs? False\n"
     ]
    }
   ],
   "source": [
    "fraudTransfer = raw_data.loc[(raw_data.isFraud == 1) & (raw_data.type == 'TRANSFER')] #Subset all Trasfer Frauds\n",
    "fraudCashout = raw_data.loc[(raw_data.isFraud == 1) & (raw_data.type == 'CASH_OUT')] #Subset all CashOut Frauds\n",
    "\n",
    "print('Within fraudulent transactions, are there destinations for TRANSFERS \\\n",
    " that are also originators for CASH_OUTs? {}'.format(\\\n",
    " fraudTransfer.nameDest.isin(fraudCashout.nameOrig).any())) # False"
   ]
  },
  {
   "cell_type": "markdown",
   "metadata": {},
   "source": [
    "This shows that there are no such common accounts among fraudulent transactions. So this feature cannot be engineered."
   ]
  },
  {
   "cell_type": "markdown",
   "metadata": {},
   "source": [
    "### Exploration in RStudio and Jupyter-R notebook ---> GoTo dataChallengeR.ipynb and dasaChallenge.R\n",
    "Since we couldn't find any connection between the nameDest and nameOrig columns with the target variable 'isFraud', we can discard these columns for modelling purposes."
   ]
  },
  {
   "cell_type": "markdown",
   "metadata": {},
   "source": [
    "### Data Cleaning"
   ]
  },
  {
   "cell_type": "code",
   "execution_count": 11,
   "metadata": {},
   "outputs": [],
   "source": [
    "X = raw_data.loc[(raw_data.type == 'TRANSFER') | (raw_data.type == 'CASH_OUT')].reset_index(drop=True) #Taking only TRANSFER and CASH_OUT for model building\n",
    "\n",
    "randomState = 5\n",
    "np.random.seed(randomState)\n",
    "\n",
    "Y = X['isFraud'] #Taking the target variable to a new dataFrame\n",
    "del X['isFraud']\n",
    "\n",
    "# Drop the irrelevant columns\n",
    "X = X.drop(['nameOrig', 'nameDest', 'isFlaggedFraud'], axis = 1)\n",
    "\n",
    "# Binary-encoding of labelled data in 'type'\n",
    "X.loc[X.type == 'TRANSFER', 'type'] = 0\n",
    "X.loc[X.type == 'CASH_OUT', 'type'] = 1\n",
    "X.type = X.type.astype(int) # convert dtype('O') to dtype(int)"
   ]
  },
  {
   "cell_type": "code",
   "execution_count": 12,
   "metadata": {},
   "outputs": [
    {
     "name": "stdout",
     "output_type": "stream",
     "text": [
      "\n",
      "The fraction of fraudulent transactions with 'oldBalanceDest' = 'newBalanceDest' = 0 although the transacted 'amount' is non-zero is: 0.4955558261293072\n",
      "\n",
      "The fraction of genuine transactions with 'oldBalanceDest' = newBalanceDest' = 0 although the transacted 'amount' is non-zero is: 0.0006176245277308345\n"
     ]
    }
   ],
   "source": [
    "Xfraud = X.loc[Y == 1] #Taking all Frauds into a dataFrame\n",
    "XnonFraud = X.loc[Y == 0] #Taking all nonFrauds into a dataFrame\n",
    "\n",
    "print('\\nThe fraction of fraudulent transactions with \\'oldBalanceDest\\' = \\\n",
    "\\'newBalanceDest\\' = 0 although the transacted \\'amount\\' is non-zero is: {}'.\\\n",
    "format(len(Xfraud.loc[(Xfraud.oldbalanceDest == 0) & \\\n",
    "(Xfraud.newbalanceDest == 0) & (Xfraud.amount)]) / (1.0 * len(Xfraud))))\n",
    "\n",
    "print('\\nThe fraction of genuine transactions with \\'oldBalanceDest\\' = \\\n",
    "newBalanceDest\\' = 0 although the transacted \\'amount\\' is non-zero is: {}'.\\\n",
    "format(len(XnonFraud.loc[(XnonFraud.oldbalanceDest == 0) & \\\n",
    "(XnonFraud.newbalanceDest == 0) & (XnonFraud.amount)]) / (1.0 * len(XnonFraud))))"
   ]
  },
  {
   "cell_type": "markdown",
   "metadata": {},
   "source": [
    "We see that the destination account balances being zero is a strong indicator of fraud.\n",
    "\n",
    "The data also has several transactions with zero balances in the originating account both before and after a non-zero amount is transacted. In this case, the fraction of such transactions is much smaller in fraudulent (0.3%) compared to genuine transactions (47%).\n",
    "\n",
    "Motivated by the possibility of zero-balances serving to differentiate between fraudulent and genuine transactions, we create 2 new features recording errors in the originating and destination accounts for each transaction."
   ]
  },
  {
   "cell_type": "code",
   "execution_count": 14,
   "metadata": {},
   "outputs": [],
   "source": [
    "X['errorBalanceOrig'] = X.newbalanceOrig + X.amount - X.oldbalanceOrg\n",
    "X['errorBalanceDest'] = X.oldbalanceDest + X.amount - X.newbalanceDest"
   ]
  },
  {
   "cell_type": "markdown",
   "metadata": {},
   "source": [
    "#### Visualizing the features used for Model Building"
   ]
  },
  {
   "cell_type": "code",
   "execution_count": 15,
   "metadata": {},
   "outputs": [
    {
     "data": {
      "text/html": [
       "<div>\n",
       "<style scoped>\n",
       "    .dataframe tbody tr th:only-of-type {\n",
       "        vertical-align: middle;\n",
       "    }\n",
       "\n",
       "    .dataframe tbody tr th {\n",
       "        vertical-align: top;\n",
       "    }\n",
       "\n",
       "    .dataframe thead th {\n",
       "        text-align: right;\n",
       "    }\n",
       "</style>\n",
       "<table border=\"1\" class=\"dataframe\">\n",
       "  <thead>\n",
       "    <tr style=\"text-align: right;\">\n",
       "      <th></th>\n",
       "      <th>step</th>\n",
       "      <th>type</th>\n",
       "      <th>amount</th>\n",
       "      <th>oldbalanceOrg</th>\n",
       "      <th>newbalanceOrig</th>\n",
       "      <th>oldbalanceDest</th>\n",
       "      <th>newbalanceDest</th>\n",
       "      <th>errorBalanceOrig</th>\n",
       "      <th>errorBalanceDest</th>\n",
       "    </tr>\n",
       "  </thead>\n",
       "  <tbody>\n",
       "    <tr>\n",
       "      <th>0</th>\n",
       "      <td>1</td>\n",
       "      <td>0</td>\n",
       "      <td>181.00</td>\n",
       "      <td>181.0</td>\n",
       "      <td>0.0</td>\n",
       "      <td>0.0</td>\n",
       "      <td>0.00</td>\n",
       "      <td>0.00</td>\n",
       "      <td>181.0</td>\n",
       "    </tr>\n",
       "    <tr>\n",
       "      <th>1</th>\n",
       "      <td>1</td>\n",
       "      <td>1</td>\n",
       "      <td>181.00</td>\n",
       "      <td>181.0</td>\n",
       "      <td>0.0</td>\n",
       "      <td>21182.0</td>\n",
       "      <td>0.00</td>\n",
       "      <td>0.00</td>\n",
       "      <td>21363.0</td>\n",
       "    </tr>\n",
       "    <tr>\n",
       "      <th>2</th>\n",
       "      <td>1</td>\n",
       "      <td>1</td>\n",
       "      <td>229133.94</td>\n",
       "      <td>15325.0</td>\n",
       "      <td>0.0</td>\n",
       "      <td>5083.0</td>\n",
       "      <td>51513.44</td>\n",
       "      <td>213808.94</td>\n",
       "      <td>182703.5</td>\n",
       "    </tr>\n",
       "    <tr>\n",
       "      <th>3</th>\n",
       "      <td>1</td>\n",
       "      <td>0</td>\n",
       "      <td>215310.30</td>\n",
       "      <td>705.0</td>\n",
       "      <td>0.0</td>\n",
       "      <td>22425.0</td>\n",
       "      <td>0.00</td>\n",
       "      <td>214605.30</td>\n",
       "      <td>237735.3</td>\n",
       "    </tr>\n",
       "    <tr>\n",
       "      <th>4</th>\n",
       "      <td>1</td>\n",
       "      <td>0</td>\n",
       "      <td>311685.89</td>\n",
       "      <td>10835.0</td>\n",
       "      <td>0.0</td>\n",
       "      <td>6267.0</td>\n",
       "      <td>2719172.89</td>\n",
       "      <td>300850.89</td>\n",
       "      <td>-2401220.0</td>\n",
       "    </tr>\n",
       "  </tbody>\n",
       "</table>\n",
       "</div>"
      ],
      "text/plain": [
       "   step  type     amount  oldbalanceOrg  newbalanceOrig  oldbalanceDest  \\\n",
       "0     1     0     181.00          181.0             0.0             0.0   \n",
       "1     1     1     181.00          181.0             0.0         21182.0   \n",
       "2     1     1  229133.94        15325.0             0.0          5083.0   \n",
       "3     1     0  215310.30          705.0             0.0         22425.0   \n",
       "4     1     0  311685.89        10835.0             0.0          6267.0   \n",
       "\n",
       "   newbalanceDest  errorBalanceOrig  errorBalanceDest  \n",
       "0            0.00              0.00             181.0  \n",
       "1            0.00              0.00           21363.0  \n",
       "2        51513.44         213808.94          182703.5  \n",
       "3            0.00         214605.30          237735.3  \n",
       "4      2719172.89         300850.89        -2401220.0  "
      ]
     },
     "execution_count": 15,
     "metadata": {},
     "output_type": "execute_result"
    }
   ],
   "source": [
    "X.head()"
   ]
  },
  {
   "cell_type": "code",
   "execution_count": 16,
   "metadata": {},
   "outputs": [
    {
     "name": "stdout",
     "output_type": "stream",
     "text": [
      "data_used shape: (2770409, 9)\n",
      "<class 'pandas.core.frame.DataFrame'>\n",
      "RangeIndex: 2770409 entries, 0 to 2770408\n",
      "Data columns (total 9 columns):\n",
      "step                int64\n",
      "type                int64\n",
      "amount              float64\n",
      "oldbalanceOrg       float64\n",
      "newbalanceOrig      float64\n",
      "oldbalanceDest      float64\n",
      "newbalanceDest      float64\n",
      "errorBalanceOrig    float64\n",
      "errorBalanceDest    float64\n",
      "dtypes: float64(7), int64(2)\n",
      "memory usage: 190.2 MB\n",
      "None\n"
     ]
    }
   ],
   "source": [
    "print (\"data_used shape:\", X.shape)\n",
    "print(X.info())"
   ]
  },
  {
   "cell_type": "markdown",
   "metadata": {},
   "source": [
    "### Plotting the correlation between the features"
   ]
  },
  {
   "cell_type": "code",
   "execution_count": 18,
   "metadata": {},
   "outputs": [
    {
     "data": {
      "text/plain": [
       "<matplotlib.axes._subplots.AxesSubplot at 0x7f02631dba58>"
      ]
     },
     "execution_count": 18,
     "metadata": {},
     "output_type": "execute_result"
    },
    {
     "data": {
      "image/png": "[encoded data removed]",
      "text/plain": [
       "<matplotlib.figure.Figure at 0x7f02ec17c668>"
      ]
     },
     "metadata": {},
     "output_type": "display_data"
    }
   ],
   "source": [
    "sns.heatmap(X.corr())"
   ]
  },
  {
   "cell_type": "markdown",
   "metadata": {},
   "source": [
    "Here we see that the different variables are not very correlated to each other. So dropping of correlated variables are not required."
   ]
  },
  {
   "cell_type": "markdown",
   "metadata": {},
   "source": [
    "## Model Building"
   ]
  },
  {
   "cell_type": "markdown",
   "metadata": {},
   "source": [
    "We are dealing with a highly imbalanced binary classification problem. So we have to select:\n",
    "1. An appropriate Machine learning algorithm\n",
    "2. How to deal with the class imbalance \n",
    "3. The selection of the metric for which we are optimizing.\n",
    "\n",
    "\n",
    "\n",
    "The common machine learning algorithms for classification are:\n",
    "1. Logistic Regression\n",
    "2. Support Vector Machines\n",
    "3. Decision Tree/Random Forest/XGBoost\n",
    "4. Neural Networks/Deep Learning\n",
    "\n",
    "Logistic Regression and Support Vector Machines search for a linear separating boundary between the +ve and -ve classes. There is an intuitive explanation that Logistic regression tries to get the -ve class scores as close to 0 as possible and the +ve class scores as close to 1 as possible. Whereas SVM is only concerned about the points that lie closer to the hyperplane and it tries to maximize the width of the separating hyper-plane. SVM's loss function is not affected by the points that are far from the hyperplane. SVMs and Logistic regression can be used for non-linear boundaries using the kernel trick.\n",
    "\n",
    "Decision Tree, Random Forest and XGBoost are all Tree-based algorithms. They divide the feature space using horizontal and vertical hyper-planes. So if the actual class boundary is very non-linear, tree based methods would outperform a linear classifier and vice-versa. Decision trees have high variance, an ensemble of many trees will decrease variance.\n",
    "\n",
    "A Randon Forest is an ensemble of Decision Trees in with each tree fitted on a bootstrapped dataset with replacement (bagging) and a clever way of decorrelating the individual trees. XGBoost is also an ensemble of Decision Trees in whith each tree fitted on a bootstrapped dataset with replacement but with boosting. i.e., the subsequent trees are fitted to the errors made by the previous trees. In XGBoost, since each tree learns from the errors made by the previous tree, it can classify hard to classify points effectively. It also have many features which make it ideal to use in a Barclays production environment.\n",
    "\n",
    "Tree based methods can automatically take into account interactions between variables, e.g. xy if you have two independent features x and y. With logistic regression, we will have to manually add those interaction terms. Tress can also handle non-linear features. Because of these advantages, we are going with tree based approach (In our case XGBoost) here. \n",
    "\n",
    "Neural Networks/Deep Learning generally perform well in the presence of huge amounts of data while the algorithms above plateau out even when we increase the training data set. Since the data available in this problem is less, we are not considering this modelling technique for this problem. For smaller datasets, conventional classifiers generally outperform neural networks."
   ]
  },
  {
   "cell_type": "code",
   "execution_count": 18,
   "metadata": {},
   "outputs": [
    {
     "name": "stdout",
     "output_type": "stream",
     "text": [
      "Class Imbalance Percentage = 0.2964544224336551\n"
     ]
    }
   ],
   "source": [
    "print('Class Imbalance Percentage = {}'.format((len(Xfraud) / float(len(X)))*100))"
   ]
  },
  {
   "cell_type": "markdown",
   "metadata": {},
   "source": [
    "We have kept only CASH_OUT and TRANSFER transactions for training the model. This has improved the imbalance from the previous 0.13% to 0.3%. A small change but a positive one for modelling.\n",
    "\n",
    "Selection of metric:  I am using the area under the precision-recall curve (AUPRC) rather than receiver operating characteristic (AUROC). An intuitive expalanation of the choice available at:\n",
    "Link: http://www.chioka.in/differences-between-roc-auc-and-pr-auc/\n",
    "\n",
    "Using 80% of data for train and 20% for testing."
   ]
  },
  {
   "cell_type": "code",
   "execution_count": 19,
   "metadata": {},
   "outputs": [],
   "source": [
    "trainX, testX, trainY, testY = train_test_split(X, Y, test_size = 0.2, random_state = randomState)"
   ]
  },
  {
   "cell_type": "markdown",
   "metadata": {},
   "source": [
    "Accounting for Class Imbalance: There are several methods for dealing with class imbalance. A very good explanation is available at:\n",
    "Link: https://www.svds.com/learning-imbalanced-classes/\n",
    "\n",
    "Here I am using the 'scale_pos_weight' hyper-parameter of the XGBoost algorithm to account for the class imbalance. This parameter can be used to inject the risk-appetite of the business (in this case Barclays) into the model."
   ]
  },
  {
   "cell_type": "code",
   "execution_count": 21,
   "metadata": {},
   "outputs": [
    {
     "name": "stdout",
     "output_type": "stream",
     "text": [
      "AUPRC = 0.9985965385666989\n"
     ]
    }
   ],
   "source": [
    "# Model Training. Long Computation in this cell\n",
    "weights = (Y == 0).sum() / ((Y == 1).sum())\n",
    "clf = XGBClassifier(max_depth = 3, scale_pos_weight = weights, n_jobs = 4)\n",
    "\n",
    "probabilities = clf.fit(trainX, trainY).predict_proba(testX)\n",
    "predictY = clf.predict(testX)\n",
    "\n",
    "print('AUPRC = {}'.format(average_precision_score(testY, probabilities[:, 1])))"
   ]
  },
  {
   "cell_type": "markdown",
   "metadata": {},
   "source": [
    "#### Save the model using Pickle for use in Streaming service"
   ]
  },
  {
   "cell_type": "code",
   "execution_count": 22,
   "metadata": {},
   "outputs": [],
   "source": [
    "xgbFile = open('XGBModel.pckl', 'wb')\n",
    "pickle.dump(clf, xgbFile)\n",
    "xgbFile.close()"
   ]
  },
  {
   "cell_type": "markdown",
   "metadata": {},
   "source": [
    "#### Test saved Pickle Model Predictions"
   ]
  },
  {
   "cell_type": "code",
   "execution_count": 24,
   "metadata": {},
   "outputs": [
    {
     "name": "stdout",
     "output_type": "stream",
     "text": [
      "Predicted Class: 0\n"
     ]
    }
   ],
   "source": [
    "xgbFile = open('/media/d/Python/flaskServer/models/XGBModel.pckl', 'rb')\n",
    "xgbModel = pickle.load(xgbFile)\n",
    "xgbFile.close()\n",
    "\n",
    "step=45435\n",
    "transactionType=2\n",
    "amount=181.00\n",
    "oldbalanceOrg=181.0\n",
    "newbalanceOrig=4343\n",
    "oldbalanceDest=494309534\n",
    "newbalanceDest=95439543\n",
    "errorBalanceOrig = newbalanceOrig + amount - oldbalanceOrg\n",
    "errorBalanceDest = oldbalanceDest + amount - newbalanceDest\n",
    "\n",
    "columnNames=['step', 'type', 'amount', 'oldbalanceOrg', 'newbalanceOrig', 'oldbalanceDest', 'newbalanceDest', 'errorBalanceOrig', 'errorBalanceDest']\n",
    "testData = np.array([step, transactionType, amount, oldbalanceOrg, newbalanceOrig, oldbalanceDest, newbalanceDest, errorBalanceOrig, errorBalanceDest]).reshape(1,9)\n",
    "pdTest = pd.DataFrame(testData, columns=columnNames)\n",
    "class_prediced = int(xgbModel.predict(pdTest))\n",
    "output = \"Predicted Class: \" + str(class_prediced)\n",
    "print(output)"
   ]
  },
  {
   "cell_type": "markdown",
   "metadata": {},
   "source": [
    "#### Feature Importance of XGBoost model"
   ]
  },
  {
   "cell_type": "code",
   "execution_count": 37,
   "metadata": {},
   "outputs": [
    {
     "data": {
      "image/png": "[encoded data removed]",
      "text/plain": [
       "<matplotlib.figure.Figure at 0x7fb6cb8702e8>"
      ]
     },
     "metadata": {},
     "output_type": "display_data"
    }
   ],
   "source": [
    "fig = plt.figure(figsize = (14, 9))\n",
    "ax = fig.add_subplot(111)\n",
    "\n",
    "colours = plt.cm.Set1(np.linspace(0, 1, 9))\n",
    "\n",
    "ax = plot_importance(clf, height = 1, color = colours, grid = False, \\\n",
    "                     show_values = False, importance_type = 'cover', ax = ax);\n",
    "for axis in ['top','bottom','left','right']:\n",
    "            ax.spines[axis].set_linewidth(2)\n",
    "        \n",
    "ax.set_xlabel('importance score', size = 16);\n",
    "ax.set_ylabel('features', size = 16);\n",
    "ax.set_yticklabels(ax.get_yticklabels(), size = 12);\n",
    "ax.set_title('Ordering of features by importance to the model learnt', size = 20);"
   ]
  },
  {
   "cell_type": "markdown",
   "metadata": {},
   "source": [
    "#### Visualizing the model"
   ]
  },
  {
   "cell_type": "code",
   "execution_count": 38,
   "metadata": {},
   "outputs": [
    {
     "data": {
      "image/svg+xml": [
       "<?xml version=\"1.0\" encoding=\"UTF-8\" standalone=\"no\"?>\n",
       "<!DOCTYPE svg PUBLIC \"-//W3C//DTD SVG 1.1//EN\"\n",
       " \"http://www.w3.org/Graphics/SVG/1.1/DTD/svg11.dtd\">\n",
       "<!-- Generated by graphviz version 2.40.1 (20161225.0304)\n",
       " -->\n",
       "<!-- Title: %3 Pages: 1 -->\n",
       "<svg width=\"833pt\" height=\"947pt\"\n",
       " viewBox=\"0.00 0.00 833.00 947.03\" xmlns=\"http://www.w3.org/2000/svg\" xmlns:xlink=\"http://www.w3.org/1999/xlink\">\n",
       "<g id=\"graph0\" class=\"graph\" transform=\"scale(1 1) rotate(0) translate(4 943.0334)\">\n",
       "<title>%3</title>\n",
       "<polygon fill=\"#ffffff\" stroke=\"transparent\" points=\"-4,4 -4,-943.0334 829,-943.0334 829,4 -4,4\"/>\n",
       "<!-- 0 -->\n",
       "<g id=\"node1\" class=\"node\">\n",
       "<title>0</title>\n",
       "<ellipse fill=\"none\" stroke=\"#000000\" cx=\"335\" cy=\"-803.8454\" rx=\"135.3763\" ry=\"135.3763\"/>\n",
       "<text text-anchor=\"middle\" x=\"335\" y=\"-800.1454\" font-family=\"Times,serif\" font-size=\"14.00\" fill=\"#000000\">errorBalanceOrig&lt;1.13686838e&#45;13</text>\n",
       "</g>\n",
       "<!-- 1 -->\n",
       "<g id=\"node2\" class=\"node\">\n",
       "<title>1</title>\n",
       "<ellipse fill=\"none\" stroke=\"#000000\" cx=\"208\" cy=\"-497.4181\" rx=\"120.4791\" ry=\"120.4791\"/>\n",
       "<text text-anchor=\"middle\" x=\"208\" y=\"-493.7181\" font-family=\"Times,serif\" font-size=\"14.00\" fill=\"#000000\">newbalanceOrig&lt;0.104999997</text>\n",
       "</g>\n",
       "<!-- 0&#45;&gt;1 -->\n",
       "<g id=\"edge1\" class=\"edge\">\n",
       "<title>0&#45;&gt;1</title>\n",
       "<path fill=\"none\" stroke=\"#0000ff\" d=\"M283.1611,-678.7678C274.8716,-658.7668 266.3076,-638.1035 258.0605,-618.2049\"/>\n",
       "<polygon fill=\"#0000ff\" stroke=\"#0000ff\" points=\"261.2305,-616.7119 254.1685,-608.814 254.7639,-619.3921 261.2305,-616.7119\"/>\n",
       "<text text-anchor=\"middle\" x=\"306.5\" y=\"-639.4574\" font-family=\"Times,serif\" font-size=\"14.00\" fill=\"#000000\">yes, missing</text>\n",
       "</g>\n",
       "<!-- 2 -->\n",
       "<g id=\"node3\" class=\"node\">\n",
       "<title>2</title>\n",
       "<ellipse fill=\"none\" stroke=\"#000000\" cx=\"462\" cy=\"-497.4181\" rx=\"115.8798\" ry=\"115.8798\"/>\n",
       "<text text-anchor=\"middle\" x=\"462\" y=\"-493.7181\" font-family=\"Times,serif\" font-size=\"14.00\" fill=\"#000000\">newbalanceOrig&lt;1340551.75</text>\n",
       "</g>\n",
       "<!-- 0&#45;&gt;2 -->\n",
       "<g id=\"edge2\" class=\"edge\">\n",
       "<title>0&#45;&gt;2</title>\n",
       "<path fill=\"none\" stroke=\"#ff0000\" d=\"M386.8389,-678.7678C395.7411,-657.2884 404.96,-635.0451 413.7628,-613.8054\"/>\n",
       "<polygon fill=\"#ff0000\" stroke=\"#ff0000\" points=\"417.0456,-615.0259 417.6411,-604.4478 410.579,-612.3458 417.0456,-615.0259\"/>\n",
       "<text text-anchor=\"middle\" x=\"410\" y=\"-639.4574\" font-family=\"Times,serif\" font-size=\"14.00\" fill=\"#000000\">no</text>\n",
       "</g>\n",
       "<!-- 3 -->\n",
       "<g id=\"node4\" class=\"node\">\n",
       "<title>3</title>\n",
       "<polygon fill=\"none\" stroke=\"#000000\" points=\"110,-224.5894 0,-224.5894 0,-188.5894 110,-188.5894 110,-224.5894\"/>\n",
       "<text text-anchor=\"middle\" x=\"55\" y=\"-202.8894\" font-family=\"Times,serif\" font-size=\"14.00\" fill=\"#000000\">leaf=0.19999963</text>\n",
       "</g>\n",
       "<!-- 1&#45;&gt;3 -->\n",
       "<g id=\"edge3\" class=\"edge\">\n",
       "<title>1&#45;&gt;3</title>\n",
       "<path fill=\"none\" stroke=\"#0000ff\" d=\"M151.8972,-390.7756C122.2739,-334.4663 88.2484,-269.7893 69.4273,-234.0134\"/>\n",
       "<polygon fill=\"#0000ff\" stroke=\"#0000ff\" points=\"72.2917,-231.9407 64.5383,-224.7202 66.0967,-235.1998 72.2917,-231.9407\"/>\n",
       "<text text-anchor=\"middle\" x=\"166.5\" y=\"-347.9788\" font-family=\"Times,serif\" font-size=\"14.00\" fill=\"#000000\">yes, missing</text>\n",
       "</g>\n",
       "<!-- 4 -->\n",
       "<g id=\"node5\" class=\"node\">\n",
       "<title>4</title>\n",
       "<ellipse fill=\"none\" stroke=\"#000000\" cx=\"209\" cy=\"-206.5894\" rx=\"80.6858\" ry=\"80.6858\"/>\n",
       "<text text-anchor=\"middle\" x=\"209\" y=\"-202.8894\" font-family=\"Times,serif\" font-size=\"14.00\" fill=\"#000000\">amount&lt;989592.25</text>\n",
       "</g>\n",
       "<!-- 1&#45;&gt;4 -->\n",
       "<g id=\"edge4\" class=\"edge\">\n",
       "<title>1&#45;&gt;4</title>\n",
       "<path fill=\"none\" stroke=\"#ff0000\" d=\"M208.414,-377.0276C208.5051,-350.5202 208.6002,-322.8689 208.6866,-297.7413\"/>\n",
       "<polygon fill=\"#ff0000\" stroke=\"#ff0000\" points=\"212.1873,-297.5206 208.7218,-287.5086 205.1873,-297.4964 212.1873,-297.5206\"/>\n",
       "<text text-anchor=\"middle\" x=\"216\" y=\"-347.9788\" font-family=\"Times,serif\" font-size=\"14.00\" fill=\"#000000\">no</text>\n",
       "</g>\n",
       "<!-- 5 -->\n",
       "<g id=\"node8\" class=\"node\">\n",
       "<title>5</title>\n",
       "<ellipse fill=\"none\" stroke=\"#000000\" cx=\"461\" cy=\"-206.5894\" rx=\"38.9931\" ry=\"38.9931\"/>\n",
       "<text text-anchor=\"middle\" x=\"461\" y=\"-202.8894\" font-family=\"Times,serif\" font-size=\"14.00\" fill=\"#000000\">step&lt;39</text>\n",
       "</g>\n",
       "<!-- 2&#45;&gt;5 -->\n",
       "<g id=\"edge7\" class=\"edge\">\n",
       "<title>2&#45;&gt;5</title>\n",
       "<path fill=\"none\" stroke=\"#0000ff\" d=\"M461.6019,-381.6392C461.4514,-337.8554 461.2879,-290.3282 461.1694,-255.8599\"/>\n",
       "<polygon fill=\"#0000ff\" stroke=\"#0000ff\" points=\"464.6686,-255.5886 461.1341,-245.6007 457.6686,-255.6128 464.6686,-255.5886\"/>\n",
       "<text text-anchor=\"middle\" x=\"496.5\" y=\"-347.9788\" font-family=\"Times,serif\" font-size=\"14.00\" fill=\"#000000\">yes, missing</text>\n",
       "</g>\n",
       "<!-- 6 -->\n",
       "<g id=\"node9\" class=\"node\">\n",
       "<title>6</title>\n",
       "<ellipse fill=\"none\" stroke=\"#000000\" cx=\"638\" cy=\"-206.5894\" rx=\"119.6788\" ry=\"119.6788\"/>\n",
       "<text text-anchor=\"middle\" x=\"638\" y=\"-202.8894\" font-family=\"Times,serif\" font-size=\"14.00\" fill=\"#000000\">errorBalanceDest&lt;351645.188</text>\n",
       "</g>\n",
       "<!-- 2&#45;&gt;6 -->\n",
       "<g id=\"edge8\" class=\"edge\">\n",
       "<title>2&#45;&gt;6</title>\n",
       "<path fill=\"none\" stroke=\"#ff0000\" d=\"M522.077,-398.1448C537.6444,-372.4206 554.5124,-344.5472 570.4356,-318.2353\"/>\n",
       "<polygon fill=\"#ff0000\" stroke=\"#ff0000\" points=\"573.6131,-319.7448 575.7961,-309.3773 567.6243,-316.1205 573.6131,-319.7448\"/>\n",
       "<text text-anchor=\"middle\" x=\"557\" y=\"-347.9788\" font-family=\"Times,serif\" font-size=\"14.00\" fill=\"#000000\">no</text>\n",
       "</g>\n",
       "<!-- 7 -->\n",
       "<g id=\"node6\" class=\"node\">\n",
       "<title>7</title>\n",
       "<polygon fill=\"none\" stroke=\"#000000\" points=\"132.5,-36 11.5,-36 11.5,0 132.5,0 132.5,-36\"/>\n",
       "<text text-anchor=\"middle\" x=\"72\" y=\"-14.3\" font-family=\"Times,serif\" font-size=\"14.00\" fill=\"#000000\">leaf=&#45;0.199344307</text>\n",
       "</g>\n",
       "<!-- 4&#45;&gt;7 -->\n",
       "<g id=\"edge5\" class=\"edge\">\n",
       "<title>4&#45;&gt;7</title>\n",
       "<path fill=\"none\" stroke=\"#0000ff\" d=\"M161.4685,-141.1592C137.2723,-107.8516 109.2132,-69.2263 91.063,-44.2415\"/>\n",
       "<polygon fill=\"#0000ff\" stroke=\"#0000ff\" points=\"93.788,-42.0375 85.0789,-36.004 88.1246,-46.1516 93.788,-42.0375\"/>\n",
       "<text text-anchor=\"middle\" x=\"143.5\" y=\"-57.8\" font-family=\"Times,serif\" font-size=\"14.00\" fill=\"#000000\">yes, missing</text>\n",
       "</g>\n",
       "<!-- 8 -->\n",
       "<g id=\"node7\" class=\"node\">\n",
       "<title>8</title>\n",
       "<polygon fill=\"none\" stroke=\"#000000\" points=\"267,-36 151,-36 151,0 267,0 267,-36\"/>\n",
       "<text text-anchor=\"middle\" x=\"209\" y=\"-14.3\" font-family=\"Times,serif\" font-size=\"14.00\" fill=\"#000000\">leaf=0.199149117</text>\n",
       "</g>\n",
       "<!-- 4&#45;&gt;8 -->\n",
       "<g id=\"edge6\" class=\"edge\">\n",
       "<title>4&#45;&gt;8</title>\n",
       "<path fill=\"none\" stroke=\"#ff0000\" d=\"M209,-125.7898C209,-97.5255 209,-67.6094 209,-46.4838\"/>\n",
       "<polygon fill=\"#ff0000\" stroke=\"#ff0000\" points=\"212.5001,-46.293 209,-36.293 205.5001,-46.293 212.5001,-46.293\"/>\n",
       "<text text-anchor=\"middle\" x=\"216\" y=\"-57.8\" font-family=\"Times,serif\" font-size=\"14.00\" fill=\"#000000\">no</text>\n",
       "</g>\n",
       "<!-- 9 -->\n",
       "<g id=\"node10\" class=\"node\">\n",
       "<title>9</title>\n",
       "<polygon fill=\"none\" stroke=\"#000000\" points=\"410.5,-36 289.5,-36 289.5,0 410.5,0 410.5,-36\"/>\n",
       "<text text-anchor=\"middle\" x=\"350\" y=\"-14.3\" font-family=\"Times,serif\" font-size=\"14.00\" fill=\"#000000\">leaf=&#45;0.190304875</text>\n",
       "</g>\n",
       "<!-- 5&#45;&gt;9 -->\n",
       "<g id=\"edge9\" class=\"edge\">\n",
       "<title>5&#45;&gt;9</title>\n",
       "<path fill=\"none\" stroke=\"#0000ff\" d=\"M441.1554,-172.8734C419.6096,-136.267 385.6311,-78.5374 365.812,-44.8646\"/>\n",
       "<polygon fill=\"#0000ff\" stroke=\"#0000ff\" points=\"368.7083,-42.8854 360.6196,-36.0427 362.6757,-46.4361 368.7083,-42.8854\"/>\n",
       "<text text-anchor=\"middle\" x=\"414.5\" y=\"-57.8\" font-family=\"Times,serif\" font-size=\"14.00\" fill=\"#000000\">yes, missing</text>\n",
       "</g>\n",
       "<!-- 10 -->\n",
       "<g id=\"node11\" class=\"node\">\n",
       "<title>10</title>\n",
       "<polygon fill=\"none\" stroke=\"#000000\" points=\"549.5,-36 428.5,-36 428.5,0 549.5,0 549.5,-36\"/>\n",
       "<text text-anchor=\"middle\" x=\"489\" y=\"-14.3\" font-family=\"Times,serif\" font-size=\"14.00\" fill=\"#000000\">leaf=&#45;0.199465111</text>\n",
       "</g>\n",
       "<!-- 5&#45;&gt;10 -->\n",
       "<g id=\"edge10\" class=\"edge\">\n",
       "<title>5&#45;&gt;10</title>\n",
       "<path fill=\"none\" stroke=\"#ff0000\" d=\"M466.7338,-167.9704C472.1099,-131.7606 480.0197,-78.4855 484.822,-46.1401\"/>\n",
       "<polygon fill=\"#ff0000\" stroke=\"#ff0000\" points=\"488.3167,-46.4336 486.3234,-36.028 481.3926,-45.4055 488.3167,-46.4336\"/>\n",
       "<text text-anchor=\"middle\" x=\"491\" y=\"-57.8\" font-family=\"Times,serif\" font-size=\"14.00\" fill=\"#000000\">no</text>\n",
       "</g>\n",
       "<!-- 11 -->\n",
       "<g id=\"node12\" class=\"node\">\n",
       "<title>11</title>\n",
       "<polygon fill=\"none\" stroke=\"#000000\" points=\"690.5,-36 569.5,-36 569.5,0 690.5,0 690.5,-36\"/>\n",
       "<text text-anchor=\"middle\" x=\"630\" y=\"-14.3\" font-family=\"Times,serif\" font-size=\"14.00\" fill=\"#000000\">leaf=&#45;0.196380094</text>\n",
       "</g>\n",
       "<!-- 6&#45;&gt;11 -->\n",
       "<g id=\"edge11\" class=\"edge\">\n",
       "<title>6&#45;&gt;11</title>\n",
       "<path fill=\"none\" stroke=\"#0000ff\" d=\"M632.9221,-86.8856C632.285,-71.8649 631.6872,-57.7737 631.2004,-46.2981\"/>\n",
       "<polygon fill=\"#0000ff\" stroke=\"#0000ff\" points=\"634.6908,-45.9949 630.77,-36.1523 627.6971,-46.2917 634.6908,-45.9949\"/>\n",
       "<text text-anchor=\"middle\" x=\"667.5\" y=\"-57.8\" font-family=\"Times,serif\" font-size=\"14.00\" fill=\"#000000\">yes, missing</text>\n",
       "</g>\n",
       "<!-- 12 -->\n",
       "<g id=\"node13\" class=\"node\">\n",
       "<title>12</title>\n",
       "<polygon fill=\"none\" stroke=\"#000000\" points=\"825,-36 709,-36 709,0 825,0 825,-36\"/>\n",
       "<text text-anchor=\"middle\" x=\"767\" y=\"-14.3\" font-family=\"Times,serif\" font-size=\"14.00\" fill=\"#000000\">leaf=0.199628815</text>\n",
       "</g>\n",
       "<!-- 6&#45;&gt;12 -->\n",
       "<g id=\"edge12\" class=\"edge\">\n",
       "<title>6&#45;&gt;12</title>\n",
       "<path fill=\"none\" stroke=\"#ff0000\" d=\"M705.5225,-107.8761C721.4674,-84.5656 737.1655,-61.6161 748.7076,-44.7423\"/>\n",
       "<polygon fill=\"#ff0000\" stroke=\"#ff0000\" points=\"751.9105,-46.2592 754.6675,-36.0293 746.1328,-42.3071 751.9105,-46.2592\"/>\n",
       "<text text-anchor=\"middle\" x=\"749\" y=\"-57.8\" font-family=\"Times,serif\" font-size=\"14.00\" fill=\"#000000\">no</text>\n",
       "</g>\n",
       "</g>\n",
       "</svg>\n"
      ],
      "text/plain": [
       "<graphviz.dot.Digraph at 0x7fb702775390>"
      ]
     },
     "execution_count": 38,
     "metadata": {},
     "output_type": "execute_result"
    }
   ],
   "source": [
    "to_graphviz(clf)"
   ]
  },
  {
   "cell_type": "markdown",
   "metadata": {},
   "source": [
    "#### Bias-Variance tradeoff"
   ]
  },
  {
   "cell_type": "code",
   "execution_count": 36,
   "metadata": {},
   "outputs": [],
   "source": [
    "# Long computation in this cell. Much longer than model training\n",
    "trainSizes, trainScores, crossValScores = learning_curve(\\\n",
    "XGBClassifier(max_depth = 3, scale_pos_weight = weights, n_jobs = 4), trainX, trainY, scoring = 'average_precision')"
   ]
  },
  {
   "cell_type": "code",
   "execution_count": 39,
   "metadata": {},
   "outputs": [
    {
     "data": {
      "image/png": "[encoded data removed]",
      "text/plain": [
       "<matplotlib.figure.Figure at 0x7fb6cb86feb8>"
      ]
     },
     "metadata": {},
     "output_type": "display_data"
    }
   ],
   "source": [
    "trainScoresMean = np.mean(trainScores, axis=1)\n",
    "trainScoresStd = np.std(trainScores, axis=1)\n",
    "crossValScoresMean = np.mean(crossValScores, axis=1)\n",
    "crossValScoresStd = np.std(crossValScores, axis=1)\n",
    "\n",
    "colours = plt.cm.tab10(np.linspace(0, 1, 9))\n",
    "\n",
    "fig = plt.figure(figsize = (14, 9))\n",
    "plt.fill_between(trainSizes, trainScoresMean - trainScoresStd,\n",
    "    trainScoresMean + trainScoresStd, alpha=0.1, color=colours[0])\n",
    "plt.fill_between(trainSizes, crossValScoresMean - crossValScoresStd,\n",
    "    crossValScoresMean + crossValScoresStd, alpha=0.1, color=colours[1])\n",
    "plt.plot(trainSizes, trainScores.mean(axis = 1), 'o-', label = 'train', \\\n",
    "         color = colours[0])\n",
    "plt.plot(trainSizes, crossValScores.mean(axis = 1), 'o-', label = 'cross-val', \\\n",
    "         color = colours[1])\n",
    "\n",
    "ax = plt.gca()\n",
    "for axis in ['top','bottom','left','right']:\n",
    "    ax.spines[axis].set_linewidth(2)\n",
    "\n",
    "handles, labels = ax.get_legend_handles_labels()\n",
    "plt.legend(handles, ['train', 'cross-val'], bbox_to_anchor=(0.8, 0.15), \\\n",
    "               loc=2, borderaxespad=0, fontsize = 16);\n",
    "plt.xlabel('training set size', size = 16); \n",
    "plt.ylabel('AUPRC', size = 16)\n",
    "plt.title('Learning curves indicate slightly underfit model', size = 20);"
   ]
  },
  {
   "cell_type": "markdown",
   "metadata": {},
   "source": [
    "### Confusion Matrix"
   ]
  },
  {
   "cell_type": "code",
   "execution_count": 40,
   "metadata": {},
   "outputs": [
    {
     "name": "stdout",
     "output_type": "stream",
     "text": [
      "Recall metric in the testing dataset: 0.9976\n",
      "Confusion matrix, without normalization\n",
      "[[552261    151]\n",
      " [     4   1666]]\n"
     ]
    },
    {
     "data": {
      "image/png": "[encoded data removed]",
      "text/plain": [
       "<matplotlib.figure.Figure at 0x7fb6cb78e5c0>"
      ]
     },
     "metadata": {},
     "output_type": "display_data"
    }
   ],
   "source": [
    "def plot_confusion_matrix(cm, classes,\n",
    "                          normalize=False,\n",
    "                          title='Confusion matrix',\n",
    "                          cmap=plt.cm.Blues):\n",
    "    \"\"\"\n",
    "    This function prints and plots the confusion matrix.\n",
    "    Normalization can be applied by setting `normalize=True`.\n",
    "    \"\"\"\n",
    "    if normalize:\n",
    "        cm = cm.astype('float') / cm.sum(axis=1)[:, np.newaxis]\n",
    "        print(\"Normalized confusion matrix\")\n",
    "    else:\n",
    "        print('Confusion matrix, without normalization')\n",
    "\n",
    "    print(cm)\n",
    "\n",
    "    plt.imshow(cm, interpolation='nearest', cmap=cmap)\n",
    "    plt.title(title)\n",
    "    plt.colorbar()\n",
    "    tick_marks = np.arange(len(classes))\n",
    "    plt.xticks(tick_marks, classes, rotation=45)\n",
    "    plt.yticks(tick_marks, classes)\n",
    "\n",
    "    fmt = '.2f' if normalize else 'd'\n",
    "    thresh = cm.max() / 2.\n",
    "    for i, j in itertools.product(range(cm.shape[0]), range(cm.shape[1])):\n",
    "        plt.text(j, i, format(cm[i, j], fmt),\n",
    "                 horizontalalignment=\"center\",\n",
    "                 color=\"white\" if cm[i, j] > thresh else \"black\")\n",
    "\n",
    "    plt.tight_layout()\n",
    "    plt.ylabel('True label')\n",
    "    plt.xlabel('Predicted label')\n",
    "\n",
    "# Compute confusion matrix\n",
    "cnf_matrix = confusion_matrix(testY, predictY)\n",
    "\n",
    "print(\"Recall metric in the testing dataset: {0:.4f}\".format(cnf_matrix[1,1]/(cnf_matrix[1,0]+cnf_matrix[1,1])))\n",
    "\n",
    "# Plot non-normalized confusion matrix\n",
    "class_names = [0,1]\n",
    "plt.figure()\n",
    "plot_confusion_matrix(cnf_matrix\n",
    "                      , classes=class_names\n",
    "                      , title='Confusion matrix')\n",
    "plt.show()"
   ]
  },
  {
   "cell_type": "markdown",
   "metadata": {},
   "source": [
    "In the Confusion Matrix above, the forward diagonal represents the correcly classified cases while the reverse diagonal shows the incorrectly classified classes.\n",
    "\n",
    "The most important metric in the Confusion Matrix above is that only 4 True frauds are wrongly predicted as notFrauds. The model managed to correctly find 1666 True Frauds while causing inconvenience to only 151 good customers. From the metrics above, we see that the model is very promising to be productionized."
   ]
  },
  {
   "cell_type": "markdown",
   "metadata": {},
   "source": [
    "### Receiver Operating Characteristic (ROC)"
   ]
  },
  {
   "cell_type": "code",
   "execution_count": 41,
   "metadata": {},
   "outputs": [
    {
     "name": "stdout",
     "output_type": "stream",
     "text": [
      "ROC_AUC = 0.9995928893391685\n"
     ]
    },
    {
     "data": {
      "image/png": "[encoded data removed]",
      "text/plain": [
       "<matplotlib.figure.Figure at 0x7fb6cb877358>"
      ]
     },
     "metadata": {},
     "output_type": "display_data"
    }
   ],
   "source": [
    "fpr, tpr, threshold = roc_curve(testY, probabilities[:,1])\n",
    "roc_auc = auc(fpr, tpr)\n",
    "\n",
    "print('ROC_AUC = {}'.format(roc_auc))\n",
    "\n",
    "plt.title('Receiver Operating Characteristic')\n",
    "plt.plot(fpr, tpr, 'b', label = 'AUC = %0.4f' % roc_auc)\n",
    "plt.legend(loc = 'lower right')\n",
    "plt.plot([0, 1], [0, 1],'r--')\n",
    "plt.xlim([0, 1])\n",
    "plt.ylim([0, 1])\n",
    "plt.ylabel('True Positive Rate')\n",
    "plt.xlabel('False Positive Rate')\n",
    "plt.show()"
   ]
  },
  {
   "cell_type": "markdown",
   "metadata": {},
   "source": [
    "### Precision Recall Curve"
   ]
  },
  {
   "cell_type": "code",
   "execution_count": 42,
   "metadata": {},
   "outputs": [
    {
     "name": "stdout",
     "output_type": "stream",
     "text": [
      "Average precision-recall score: 0.9986\n"
     ]
    }
   ],
   "source": [
    "average_precision = average_precision_score(testY, probabilities[:,1])\n",
    "print('Average precision-recall score: {0:0.4f}'.format(average_precision))"
   ]
  },
  {
   "cell_type": "code",
   "execution_count": 43,
   "metadata": {},
   "outputs": [
    {
     "data": {
      "text/plain": [
       "Text(0.5,1,'2-class Precision-Recall curve: AP=0.9986')"
      ]
     },
     "execution_count": 43,
     "metadata": {},
     "output_type": "execute_result"
    },
    {
     "data": {
      "image/png": "[encoded data removed]",
      "text/plain": [
       "<matplotlib.figure.Figure at 0x7fb702935390>"
      ]
     },
     "metadata": {},
     "output_type": "display_data"
    }
   ],
   "source": [
    "precision, recall, _ = precision_recall_curve(testY, probabilities[:,1])\n",
    "plt.step(recall, precision, color='b', alpha=0.2,\n",
    "         where='post')\n",
    "plt.fill_between(recall, precision, step='post', alpha=0.2,\n",
    "                 color='b')\n",
    "\n",
    "plt.xlabel('Recall')\n",
    "plt.ylabel('Precision')\n",
    "plt.ylim([0.0, 1.05])\n",
    "plt.xlim([0.0, 1.0])\n",
    "plt.title('2-class Precision-Recall curve: AP={0:0.4f}'.format(average_precision))"
   ]
  },
  {
   "cell_type": "markdown",
   "metadata": {},
   "source": [
    "## Streaming Flask Service"
   ]
  },
  {
   "cell_type": "markdown",
   "metadata": {},
   "source": [
    "### Please start the Flask server before running the below cells ---> python serverXGB.py"
   ]
  },
  {
   "cell_type": "markdown",
   "metadata": {},
   "source": [
    "#### Test the Streaming Flask Service "
   ]
  },
  {
   "cell_type": "markdown",
   "metadata": {},
   "source": [
    "I have moved the 'errorBalanceOrig' and 'errorBalanceDest' feature calculations to the Flask server itself to reduce the data flow over the network"
   ]
  },
  {
   "cell_type": "code",
   "execution_count": 44,
   "metadata": {},
   "outputs": [
    {
     "data": {
      "text/plain": [
       "'Predicted Class: 1'"
      ]
     },
     "execution_count": 44,
     "metadata": {},
     "output_type": "execute_result"
    }
   ],
   "source": [
    "r = requests.get(\"http://127.0.0.1:5000/predict?step=1&type=0&amount=0&oldbalanceOrg=0&newbalanceOrig=0.0&oldbalanceDest=0.0&newbalanceDest=0.0\")\n",
    "r.text"
   ]
  },
  {
   "cell_type": "code",
   "execution_count": 45,
   "metadata": {},
   "outputs": [
    {
     "data": {
      "text/html": [
       "<div>\n",
       "<style scoped>\n",
       "    .dataframe tbody tr th:only-of-type {\n",
       "        vertical-align: middle;\n",
       "    }\n",
       "\n",
       "    .dataframe tbody tr th {\n",
       "        vertical-align: top;\n",
       "    }\n",
       "\n",
       "    .dataframe thead th {\n",
       "        text-align: right;\n",
       "    }\n",
       "</style>\n",
       "<table border=\"1\" class=\"dataframe\">\n",
       "  <thead>\n",
       "    <tr style=\"text-align: right;\">\n",
       "      <th></th>\n",
       "      <th>step</th>\n",
       "      <th>type</th>\n",
       "      <th>amount</th>\n",
       "      <th>oldbalanceOrg</th>\n",
       "      <th>newbalanceOrig</th>\n",
       "      <th>oldbalanceDest</th>\n",
       "      <th>newbalanceDest</th>\n",
       "    </tr>\n",
       "  </thead>\n",
       "  <tbody>\n",
       "    <tr>\n",
       "      <th>1114450</th>\n",
       "      <td>205</td>\n",
       "      <td>1</td>\n",
       "      <td>63243.44</td>\n",
       "      <td>0.0</td>\n",
       "      <td>0.00</td>\n",
       "      <td>1853683.32</td>\n",
       "      <td>1916926.76</td>\n",
       "    </tr>\n",
       "    <tr>\n",
       "      <th>669601</th>\n",
       "      <td>153</td>\n",
       "      <td>1</td>\n",
       "      <td>186686.03</td>\n",
       "      <td>386098.0</td>\n",
       "      <td>199411.97</td>\n",
       "      <td>2135106.65</td>\n",
       "      <td>2321792.68</td>\n",
       "    </tr>\n",
       "    <tr>\n",
       "      <th>481521</th>\n",
       "      <td>130</td>\n",
       "      <td>1</td>\n",
       "      <td>118390.25</td>\n",
       "      <td>1063.0</td>\n",
       "      <td>0.00</td>\n",
       "      <td>12650143.69</td>\n",
       "      <td>12768533.94</td>\n",
       "    </tr>\n",
       "    <tr>\n",
       "      <th>2666127</th>\n",
       "      <td>525</td>\n",
       "      <td>1</td>\n",
       "      <td>31267.07</td>\n",
       "      <td>0.0</td>\n",
       "      <td>0.00</td>\n",
       "      <td>3876206.35</td>\n",
       "      <td>3907473.42</td>\n",
       "    </tr>\n",
       "    <tr>\n",
       "      <th>357400</th>\n",
       "      <td>40</td>\n",
       "      <td>1</td>\n",
       "      <td>294134.47</td>\n",
       "      <td>452576.0</td>\n",
       "      <td>158441.53</td>\n",
       "      <td>223400.86</td>\n",
       "      <td>517535.32</td>\n",
       "    </tr>\n",
       "  </tbody>\n",
       "</table>\n",
       "</div>"
      ],
      "text/plain": [
       "         step  type     amount  oldbalanceOrg  newbalanceOrig  oldbalanceDest  \\\n",
       "1114450   205     1   63243.44            0.0            0.00      1853683.32   \n",
       "669601    153     1  186686.03       386098.0       199411.97      2135106.65   \n",
       "481521    130     1  118390.25         1063.0            0.00     12650143.69   \n",
       "2666127   525     1   31267.07            0.0            0.00      3876206.35   \n",
       "357400     40     1  294134.47       452576.0       158441.53       223400.86   \n",
       "\n",
       "         newbalanceDest  \n",
       "1114450      1916926.76  \n",
       "669601       2321792.68  \n",
       "481521      12768533.94  \n",
       "2666127      3907473.42  \n",
       "357400        517535.32  "
      ]
     },
     "execution_count": 45,
     "metadata": {},
     "output_type": "execute_result"
    }
   ],
   "source": [
    "testXFlask = testX.drop(['errorBalanceOrig', 'errorBalanceDest'], axis = 1)\n",
    "testXFlask.head()"
   ]
  },
  {
   "cell_type": "markdown",
   "metadata": {},
   "source": [
    "#### Get Predictions from the streaming Flask application which takes transactions one by one and classifies them"
   ]
  },
  {
   "cell_type": "code",
   "execution_count": 46,
   "metadata": {},
   "outputs": [
    {
     "name": "stdout",
     "output_type": "stream",
     "text": [
      "Predicted Class: 0\n",
      "Predicted Class: 0\n",
      "Predicted Class: 0\n",
      "Predicted Class: 0\n",
      "Predicted Class: 0\n",
      "Predicted Class: 0\n",
      "Predicted Class: 1\n",
      "Predicted Class: 0\n",
      "Predicted Class: 0\n",
      "Predicted Class: 0\n"
     ]
    }
   ],
   "source": [
    "for i in range(400,410):\n",
    "    req = \"http://127.0.0.1:5000/predict?step={}&type={}&amount={}&oldbalanceOrg={}&newbalanceOrig={}&oldbalanceDest={}&newbalanceDest={}\".\\\n",
    "    format(int(testXFlask.iloc[i][0]),int(testXFlask.iloc[i][1]),testXFlask.iloc[i][2],testXFlask.iloc[i][3],testXFlask.iloc[i][4],testXFlask.iloc[i][5],testXFlask.iloc[i][6])\n",
    "    r = requests.get(req)\n",
    "    print(r.text)\n",
    "    time.sleep(1)"
   ]
  },
  {
   "cell_type": "markdown",
   "metadata": {},
   "source": [
    "Comparing the output from the streaming Flask application to the predictions from the model below"
   ]
  },
  {
   "cell_type": "code",
   "execution_count": 47,
   "metadata": {},
   "outputs": [
    {
     "data": {
      "text/plain": [
       "array([0, 0, 0, 0, 0, 0, 1, 0, 0, 0])"
      ]
     },
     "execution_count": 47,
     "metadata": {},
     "output_type": "execute_result"
    }
   ],
   "source": [
    "predictY[400:410]"
   ]
  },
  {
   "cell_type": "markdown",
   "metadata": {},
   "source": [
    "#### Simulate interarrival times following an exponential distribution with the streaming Flask application"
   ]
  },
  {
   "cell_type": "code",
   "execution_count": 49,
   "metadata": {},
   "outputs": [
    {
     "name": "stdout",
     "output_type": "stream",
     "text": [
      "Predicted Class: 0\n",
      "Predicted Class: 0\n",
      "Predicted Class: 0\n",
      "Predicted Class: 0\n",
      "Predicted Class: 0\n",
      "Predicted Class: 0\n",
      "Predicted Class: 0\n",
      "Predicted Class: 0\n",
      "Predicted Class: 0\n",
      "Predicted Class: 0\n"
     ]
    }
   ],
   "source": [
    "expDistribution = np.random.exponential(1, 10)\n",
    "for i in range(10):\n",
    "    req = \"http://127.0.0.1:5000/predict?step={}&type={}&amount={}&oldbalanceOrg={}&newbalanceOrig={}&oldbalanceDest={}&newbalanceDest={}\".\\\n",
    "    format(int(testXFlask.iloc[i][0]),int(testXFlask.iloc[i][1]),testXFlask.iloc[i][2],testXFlask.iloc[i][3],testXFlask.iloc[i][4],testXFlask.iloc[i][5],testXFlask.iloc[i][6])\n",
    "    r = requests.get(req)\n",
    "    print(r.text)\n",
    "    time.sleep(abs(1-expDistribution[i]))"
   ]
  },
  {
   "cell_type": "markdown",
   "metadata": {},
   "source": [
    "Thanks to Arjun Joshua for the superb feature explanation"
   ]
  },
  {
   "cell_type": "code",
   "execution_count": null,
   "metadata": {},
   "outputs": [],
   "source": []
  }
 ],
 "metadata": {
  "kernelspec": {
   "display_name": "Python 3",
   "language": "python",
   "name": "python3"
  },
  "language_info": {
   "codemirror_mode": {
    "name": "ipython",
    "version": 3
   },
   "file_extension": ".py",
   "mimetype": "text/x-python",
   "name": "python",
   "nbconvert_exporter": "python",
   "pygments_lexer": "ipython3",
   "version": "3.6.4"
  }
 },
 "nbformat": 4,
 "nbformat_minor": 2
}
